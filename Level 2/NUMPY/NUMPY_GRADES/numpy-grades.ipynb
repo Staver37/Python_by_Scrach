{
 "cells": [
  {
   "cell_type": "markdown",
   "metadata": {},
   "source": [
    "site:  https://numpy.org/devdocs/reference/generated/numpy.concatenate.html#numpy.concatenate\n",
    "# STUDENT'S GRATES\n",
    "Let's take a simple example and increment it gradually\n"
   ]
  },
  {
   "cell_type": "code",
   "execution_count": 1,
   "metadata": {},
   "outputs": [],
   "source": [
    "import numpy as np\n",
    "\n"
   ]
  },
  {
   "cell_type": "markdown",
   "metadata": {},
   "source": [
    "From one value to 3 dimensions"
   ]
  },
  {
   "cell_type": "code",
   "execution_count": 2,
   "metadata": {},
   "outputs": [
    {
     "name": "stdout",
     "output_type": "stream",
     "text": [
      "1. use array: [1] (1,) .           type: <class 'numpy.ndarray'> .  type value on this array: int64\n",
      "2. use Nr: 1 shape: () .   type: <class 'numpy.ndarray'> .  type value on this array: int64\n",
      "3. use Nr: [10  1] .   shape: (2,) .   type: <class 'numpy.ndarray'> .  type value on this array: int8\n",
      "4. Nr: -24 .  type value on this array: int8 transforn the number in bit and retransform the last 8th didit in decimal result is -24\n"
     ]
    }
   ],
   "source": [
    "# The student got a mark for a single leason\n",
    "\n",
    "# Array with shape\n",
    "grades_array = np.array([1])\n",
    "print(\"1. use array:\",grades_array, grades_array.shape, \".           type:\",type(grades_array),\".  type value on this array:\",grades_array.dtype)\n",
    "\n",
    "# Number \n",
    "grades_number = np.array(1)\n",
    "print(\"2. use Nr:\",grades_number, \"shape:\",grades_number.shape, \".   type:\",type(grades_number),\".  type value on this array:\",grades_number.dtype)\n",
    "\n",
    "#  -> set the type value in this array --v\n",
    "grades_number = np.array([10,1], dtype =  np.int8)\n",
    "print(\"3. use Nr:\",grades_number,\".   shape:\" , grades_number.shape, \".   type:\",type(grades_number),\".  type value on this array:\",grades_number.dtype)\n",
    "\n",
    "# What hapen if the value is pas type value\n",
    "grades_number = np.array(1000, dtype =  np.int8)\n",
    "print(\"4. Nr:\",grades_number, \".  type value on this array:\",grades_number.dtype,\"transforn the number in bit and retransform the last 8th didit in decimal result is -24\")\n"
   ]
  },
  {
   "cell_type": "code",
   "execution_count": 3,
   "metadata": {},
   "outputs": [
    {
     "name": "stdout",
     "output_type": "stream",
     "text": [
      "use array: [10  9  9  8  8 10 10] (7,) .        type: <class 'numpy.ndarray'> .  type value on this array: int8\n"
     ]
    }
   ],
   "source": [
    "# The student got a mark for each (7) lessons\n",
    "grades_7_lesons = np.array([10,9,9,8,8,10,10],  dtype = np.int8)\n",
    "print(\"use array:\",grades_7_lesons, grades_7_lesons.shape, \".        type:\",type(grades_7_lesons),\".  type value on this array:\",grades_7_lesons.dtype)\n"
   ]
  },
  {
   "cell_type": "markdown",
   "metadata": {},
   "source": [
    "Use append for add next grades"
   ]
  },
  {
   "cell_type": "code",
   "execution_count": 4,
   "metadata": {},
   "outputs": [
    {
     "name": "stdout",
     "output_type": "stream",
     "text": [
      "use array: [10  9  9  8  8 10 10] shape: (7,) .        type: <class 'numpy.ndarray'> .  type value on this array: int64\n"
     ]
    }
   ],
   "source": [
    "grades_7_lesons = np.array(10,  dtype = np.int8)\n",
    "grades_7_lesons = np.append(grades_7_lesons,[9,9,8,8,10,10])\n",
    "print(\"use array:\",grades_7_lesons,\"shape:\", grades_7_lesons.shape, \".        type:\",type(grades_7_lesons),\".  type value on this array:\",grades_7_lesons.dtype)\n",
    "# in numpy the array is making a clone an this set new default type. \n"
   ]
  },
  {
   "cell_type": "code",
   "execution_count": 5,
   "metadata": {},
   "outputs": [
    {
     "name": "stdout",
     "output_type": "stream",
     "text": [
      "[10  9  9  8  8 10 10] int8\n"
     ]
    }
   ],
   "source": [
    "# HW1: fiind a nother solution to add the marks to an existing array\n",
    "grades = np.array([10],dtype=np.int8)\n",
    "\n",
    "#  for insert:    index---v       v--- value \n",
    "#                         v       v\n",
    "grades =np.insert( grades,1,[9,9,8,8,10,10])\n",
    "\n",
    "print(grades,grades.dtype)"
   ]
  },
  {
   "cell_type": "code",
   "execution_count": 6,
   "metadata": {},
   "outputs": [
    {
     "name": "stdout",
     "output_type": "stream",
     "text": [
      "   Grades\n",
      "[[6 6 0 8 1]\n",
      " [2 1 3 7 4]\n",
      " [8 6 5 6 6]\n",
      " [2 5 5 4 0]\n",
      " [5 9 3 4 4]\n",
      " [5 2 7 7 0]\n",
      " [5 7 5 4 1]] Grades shape: (7, 5) int8\n"
     ]
    }
   ],
   "source": [
    "# agroup of 3 students marks\n",
    "#                arguments------v | Students ------v\n",
    "#                               v | Lesonss----- v v\n",
    "grades = np.random.randint(low=0,high=10,  size=(7,5), dtype= np.int8)\n",
    "print(\"   Grades\",)\n",
    "print(grades,\"Grades shape:\",grades.shape,grades.dtype)"
   ]
  },
  {
   "cell_type": "code",
   "execution_count": 7,
   "metadata": {},
   "outputs": [
    {
     "name": "stdout",
     "output_type": "stream",
     "text": [
      "  reshape Grades \n",
      "[[6 6 0 8 1 2 1]\n",
      " [3 7 4 8 6 5 6]\n",
      " [6 2 5 5 4 0 5]\n",
      " [9 3 4 4 5 2 7]\n",
      " [7 0 5 7 5 4 1]] Grades reshapes: (5, 7) int8\n"
     ]
    }
   ],
   "source": [
    "#                                   reshape argument\n",
    "# agroup of 3 students marks\n",
    "#     arguments------v | Students ------v\n",
    "#                    v | Lesonss----- v v\n",
    "grades = np.reshape(         grades, (5,7))\n",
    "print(\"  reshape Grades \",)\n",
    "print(grades,\"Grades reshapes:\",grades.shape,grades.dtype)\n"
   ]
  },
  {
   "cell_type": "code",
   "execution_count": 8,
   "metadata": {},
   "outputs": [
    {
     "name": "stdout",
     "output_type": "stream",
     "text": [
      "Grades:regular shape\n",
      "[[ 6  4  8  0  7]\n",
      " [ 1 10  7  0  5]\n",
      " [ 6  1 10  4  8]\n",
      " [ 6 10  3  6  7]\n",
      " [ 0  0  4  9  5]\n",
      " [ 7  0  2  8  9]\n",
      " [ 7 10  7  0  2]]\n",
      "\n",
      "  transpose degrees \n",
      "[[ 6  1  6  6  0  7  7]\n",
      " [ 4 10  1 10  0  0 10]\n",
      " [ 8  7 10  3  4  2  7]\n",
      " [ 0  0  4  6  9  8  0]\n",
      " [ 7  5  8  7  5  9  2]] Grades (transpose) rotation to 90 degrees: (5, 7) int8\n"
     ]
    }
   ],
   "source": [
    "#                           Grades:regular shape\n",
    "print(\"Grades:regular shape\")\n",
    "grades = np.random.randint(low=0,high=11,  size=(7,5), dtype= np.int8)\n",
    "print(grades)\n",
    "print()\n",
    "\n",
    "#                      Transpose argument(  rotation to 90 degrees)\n",
    "# agroup of 3 students marks | AXES----v\n",
    "#     arguments------v | Students ------v\n",
    "#                    v | Lesonss----- v v\n",
    "grades = np.transpose(grades,        (1,0))\n",
    "print(\"  transpose degrees \",)\n",
    "print(grades,\"Grades (transpose) rotation to 90 degrees:\",grades.shape,grades.dtype)\n"
   ]
  },
  {
   "cell_type": "code",
   "execution_count": 9,
   "metadata": {},
   "outputs": [
    {
     "name": "stdout",
     "output_type": "stream",
     "text": [
      "10\n",
      "10\n"
     ]
    }
   ],
   "source": [
    "# print the second student last grades\n",
    "\n",
    "# [[10  9 10  3  5  9  2]\n",
    "#  [ 6  6  3  2  6  0 (5)]\n",
    "#  [ 1  2  8  4  5  2  4]\n",
    "#  [ 4  2  0 10  7  6  0]\n",
    "#  [ 5  8  6  3  4 10  1]] \n",
    "\n",
    "# for regular py\n",
    "print(grades[1][6])\n",
    "# for shortcut np\n",
    "print(grades[1,6])"
   ]
  },
  {
   "cell_type": "code",
   "execution_count": 10,
   "metadata": {},
   "outputs": [
    {
     "name": "stdout",
     "output_type": "stream",
     "text": [
      "          Grades:\n",
      "[[[ 9  5  3  2  3  6  5]\n",
      "  [ 9  4  1 10  4  2  4]\n",
      "  [ 5  3  5  9  0  9 10]\n",
      "  [ 2  8  1  6  4 10  7]\n",
      "  [ 7  2  6  7  3  0  8]]\n",
      "\n",
      " [[10  8  6  8  7  0  2]\n",
      "  [ 0  0  1  4  7  5  9]\n",
      "  [ 9  5  9  0  0  2  7]\n",
      "  [ 5  7  7  2 10 10  0]\n",
      "  [ 0  8  0  2  8  7  6]]\n",
      "\n",
      " [[ 4  6  6  8  4  5  7]\n",
      "  [ 8 10  6  1  3  6  5]\n",
      "  [ 3  7  1  7  9  9  8]\n",
      "  [ 6  2  7  4  9  7 10]\n",
      "  [ 6  9  8  4  1  2  5]]] Grades shape: (3, 5, 7) int8\n"
     ]
    }
   ],
   "source": [
    "# optain marks for 3 groups of students each for 7 lessons\n",
    "\n",
    "# agroup of 3 students marks \n",
    "#            arguments------v |       Students ------v\n",
    "#                           v |       Lesonss----- v v\n",
    "#                           v |       Groups-----v v v \n",
    "print(\"          Grades:\")# v |                  v v v\n",
    "grades = np.random.randint(low=0,high=11,  size=(3,5,7), dtype= np.int8)\n",
    "print(grades,\"Grades shape:\",grades.shape,grades.dtype)\n"
   ]
  },
  {
   "cell_type": "code",
   "execution_count": 11,
   "metadata": {},
   "outputs": [
    {
     "name": "stdout",
     "output_type": "stream",
     "text": [
      "[[[ 8  4  2  8  3  1  0]\n",
      "  [ 3  1  0 10  2  8  7]\n",
      "  [ 9  0  4  2  4  8  6]\n",
      "  [ 9  8  5  7  6  0  7]\n",
      "  [ 2  7 10  8 10  3  4]]]\n",
      "          Grades:\n",
      "[[[ 8  4  2  8  3  1  0]\n",
      "  [ 3  1  0 10  2  8  7]\n",
      "  [ 9  0  4  2  4  8  6]\n",
      "  [ 9  8  5  7  6  0  7]\n",
      "  [ 2  7 10  8 10  3  4]]\n",
      "\n",
      " [[10  2  4  3  9  1  8]\n",
      "  [ 1  9  6 10  9  6  7]\n",
      "  [ 5  2  4  3 10  5  9]\n",
      "  [ 1  9  4  1  9  3  7]\n",
      "  [ 0  7  3  8  5  7  0]]\n",
      "\n",
      " [[ 6 10  4  2  7  2  5]\n",
      "  [ 1  5  0  2 10  9  7]\n",
      "  [ 0  8  1  5 10  8  0]\n",
      "  [10  5  2  0  5  3  7]\n",
      "  [ 0  0 10  2  2  4  7]]] Grades shape: (3, 5, 7) int8\n"
     ]
    }
   ],
   "source": [
    "# HW2: while have data for first group (5,7) add the next two\n",
    "#                    CONCATENATE\n",
    "grades_g1 = np.random.randint(low=0,high=11,  size=(1,5,7), dtype= np.int8)\n",
    "print(grades_g1)\n",
    "grades_g2_g3 = np.random.randint(low=0,high=11,  size=(2,5,7), dtype= np.int8)\n",
    "grades = np.concatenate((grades_g1, grades_g2_g3), axis=0)\n",
    "print(\"          Grades:\")\n",
    "print(grades,\"Grades shape:\",grades.shape,grades.dtype)\n"
   ]
  },
  {
   "cell_type": "code",
   "execution_count": 12,
   "metadata": {},
   "outputs": [],
   "source": [
    "grades = np.array([[[ 6,  8,  6,  4,  4,  7,  9,],\n",
    "                    [ 2,  4,  3,  2,  3,  0,  1,],\n",
    "                    [ 3,  8,  7,  9,  4, 10,  5,],\n",
    "                    [ 2,  1,  2,  7,  9, 10,  7,],\n",
    "                    [10,  9, 10, 10,  9,  6,  8,],],\n",
    "\n",
    "                   [[ 3,  9,  6,  5,  0,  2, 10,],\n",
    "                    [ 2,  5,  5,  9, 10,  6,  4,],\n",
    "                    [ 9,  6,  9,  3,  3,  8,  1,],\n",
    "                    [ 9,  9,  1,  6,  9,  8,  8,],\n",
    "                    [ 1,  0,  7,  0,  7,  3,  8,],],\n",
    " \n",
    "                   [[ 6,  4,  4,  9, 10,  3,  8,],\n",
    "                    [ 0,  1,  8,  8,  0,  7,  5,],\n",
    "                    [ 5,  6,  5,  4,  6,  3,  4,],\n",
    "                    [ 8,  2,  5,  2,  7,  0,  4,],\n",
    "                    [ 6,  0,  1,  4,  7,  5,  6,],]], dtype=np.int8)\n"
   ]
  },
  {
   "cell_type": "markdown",
   "metadata": {},
   "source": [
    "###   AXES\n",
    "<img src=\"axis_vizualization _numpy.png\" style=\"width:700px;height 700px\"/>"
   ]
  },
  {
   "cell_type": "code",
   "execution_count": 13,
   "metadata": {},
   "outputs": [
    {
     "name": "stdout",
     "output_type": "stream",
     "text": [
      " sum axe->[0]: \n",
      " [[15 21 16 18 14 12 27]\n",
      " [ 4 10 16 19 13 13 10]\n",
      " [17 20 21 16 13 21 10]\n",
      " [19 12  8 15 25 18 19]\n",
      " [17  9 18 14 23 14 22]]\n",
      " sum axe->[1]: \n",
      " [[23 30 28 32 29 33 30]\n",
      " [24 29 28 23 29 27 31]\n",
      " [25 13 23 27 30 18 27]]\n",
      " sum axe->[2]: \n",
      " [[[44]\n",
      "  [15]\n",
      "  [46]\n",
      "  [38]\n",
      "  [62]]\n",
      "\n",
      " [[35]\n",
      "  [41]\n",
      "  [39]\n",
      "  [50]\n",
      "  [26]]\n",
      "\n",
      " [[44]\n",
      "  [29]\n",
      "  [33]\n",
      "  [28]\n",
      "  [29]]]\n"
     ]
    }
   ],
   "source": [
    "#                 sum  AXES=\n",
    "print(\" sum axe->[0]:\",\"\\n\",np.sum(grades, axis=0))\n",
    "print(\" sum axe->[1]:\",\"\\n\",np.sum(grades, axis=1))\n",
    "print(\" sum axe->[2]:\",\"\\n\",np.sum(grades, axis=2,keepdims=True))\n"
   ]
  },
  {
   "cell_type": "markdown",
   "metadata": {},
   "source": [
    "solve: mean(avg),max,min"
   ]
  },
  {
   "cell_type": "code",
   "execution_count": 14,
   "metadata": {},
   "outputs": [
    {
     "name": "stdout",
     "output_type": "stream",
     "text": [
      "          Grades:\n",
      "[[[ 6  8  6  4  4  7  9]\n",
      "  [ 2  4  3  2  3  0  1]\n",
      "  [ 3  8  7  9  4 10  5]\n",
      "  [ 2  1  2  7  9 10  7]\n",
      "  [10  9 10 10  9  6  8]]\n",
      "\n",
      " [[ 3  9  6  5  0  2 10]\n",
      "  [ 2  5  5  9 10  6  4]\n",
      "  [ 9  6  9  3  3  8  1]\n",
      "  [ 9  9  1  6  9  8  8]\n",
      "  [ 1  0  7  0  7  3  8]]\n",
      "\n",
      " [[ 6  4  4  9 10  3  8]\n",
      "  [ 0  1  8  8  0  7  5]\n",
      "  [ 5  6  5  4  6  3  4]\n",
      "  [ 8  2  5  2  7  0  4]\n",
      "  [ 6  0  1  4  7  5  6]]]    Grades shape: (3, 5, 7) int8\n",
      "\n",
      "  Average per University: 5.3238095238095235\n",
      "\n",
      "  Average per Group : [5.85714286 5.45714286 4.65714286]\n",
      "\n",
      "  Average per Group[0] : 5.857142857142857\n"
     ]
    }
   ],
   "source": [
    "\n",
    "print(\"          Grades:\")\n",
    "print(grades, \"   Grades shape:\",grades.shape,grades.dtype)\n",
    "\n",
    "\n",
    "print(\"\\n\",\" Average per University:\",np.mean(grades))\n",
    "print(\"\\n\",\" Average per Group :\",np.mean(grades, axis = (1,2)))\n",
    "print(\"\\n\",\" Average per Group[0] :\",np.mean(grades[0]))"
   ]
  },
  {
   "cell_type": "code",
   "execution_count": 15,
   "metadata": {},
   "outputs": [
    {
     "name": "stdout",
     "output_type": "stream",
     "text": [
      "\n",
      "  Average per lessons : [4.8        4.8        5.26666667 5.46666667 5.86666667 5.2\n",
      " 5.86666667]\n"
     ]
    }
   ],
   "source": [
    "# HW3: calculate the mean grades for each lessons ->(7,)\n",
    "print(\"\\n\",\" Average per lessons :\",np.mean(grades, axis = (0,1)))\n",
    "\n"
   ]
  },
  {
   "cell_type": "code",
   "execution_count": 16,
   "metadata": {},
   "outputs": [
    {
     "name": "stdout",
     "output_type": "stream",
     "text": [
      "Max per group [10 10 10]\n",
      "Max per group [[[10]]\n",
      "\n",
      " [[10]]\n",
      "\n",
      " [[10]]]\n"
     ]
    }
   ],
   "source": [
    "#      Max per group\n",
    "print(\"Max per group\", np.max(grades,axis =(1,2)))\n",
    "\n",
    "# keep same dimension for output\n",
    "print(\"Max per group\", np.max(grades,axis =(1,2),keepdims=True))\n"
   ]
  },
  {
   "cell_type": "code",
   "execution_count": 17,
   "metadata": {},
   "outputs": [
    {
     "name": "stdout",
     "output_type": "stream",
     "text": [
      "Max grades for each students  [[[ 9]\n",
      "  [ 4]\n",
      "  [10]\n",
      "  [10]\n",
      "  [10]]\n",
      "\n",
      " [[10]\n",
      "  [10]\n",
      "  [ 9]\n",
      "  [ 9]\n",
      "  [ 8]]\n",
      "\n",
      " [[10]\n",
      "  [ 8]\n",
      "  [ 6]\n",
      "  [ 8]\n",
      "  [ 7]]]\n"
     ]
    }
   ],
   "source": [
    "# HW4: Find the max grades for each students\n",
    "print(\"Max grades for each students \", np.max(grades,axis =(2),keepdims=True))\n"
   ]
  },
  {
   "cell_type": "code",
   "execution_count": 18,
   "metadata": {},
   "outputs": [
    {
     "name": "stdout",
     "output_type": "stream",
     "text": [
      "Min per group [[[0]]\n",
      "\n",
      " [[0]]\n",
      "\n",
      " [[0]]]\n"
     ]
    }
   ],
   "source": [
    "# HW5: find the min grade for each group\n",
    "print(\"Min per group\", np.min(grades,axis =(1,2),keepdims=True))\n"
   ]
  }
 ],
 "metadata": {
  "kernelspec": {
   "display_name": "Python 3.10.4 64-bit",
   "language": "python",
   "name": "python3"
  },
  "language_info": {
   "codemirror_mode": {
    "name": "ipython",
    "version": 3
   },
   "file_extension": ".py",
   "mimetype": "text/x-python",
   "name": "python",
   "nbconvert_exporter": "python",
   "pygments_lexer": "ipython3",
   "version": "3.10.4"
  },
  "orig_nbformat": 4,
  "vscode": {
   "interpreter": {
    "hash": "aee8b7b246df8f9039afb4144a1f6fd8d2ca17a180786b69acc140d282b71a49"
   }
  }
 },
 "nbformat": 4,
 "nbformat_minor": 2
}
