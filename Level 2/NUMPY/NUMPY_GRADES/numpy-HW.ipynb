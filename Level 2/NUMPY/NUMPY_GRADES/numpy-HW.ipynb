{
 "cells": [
  {
   "cell_type": "code",
   "execution_count": 14,
   "metadata": {},
   "outputs": [],
   "source": [
    "import numpy as np"
   ]
  },
  {
   "cell_type": "code",
   "execution_count": 15,
   "metadata": {},
   "outputs": [
    {
     "name": "stdout",
     "output_type": "stream",
     "text": [
      "[10  9  9  8  8 10 10] int8\n"
     ]
    }
   ],
   "source": [
    "#        INSERT\n",
    "grades = np.array([10],dtype=np.int8)\n",
    "grades =np.insert( grades,1,[9,9,8,8,10,10])\n",
    "\n",
    "print(grades,grades.dtype)"
   ]
  },
  {
   "cell_type": "code",
   "execution_count": 16,
   "metadata": {},
   "outputs": [
    {
     "name": "stdout",
     "output_type": "stream",
     "text": [
      "[[[10  0  1  9  3  9  8]\n",
      "  [ 9  7  9  2  9  5  4]\n",
      "  [ 1  8  0  4  0  8  5]\n",
      "  [ 1  8  1 10 10  8  7]\n",
      "  [ 6  2  4 10  1  8  2]]]\n",
      "          Grades:\n",
      "[[[10  0  1  9  3  9  8]\n",
      "  [ 9  7  9  2  9  5  4]\n",
      "  [ 1  8  0  4  0  8  5]\n",
      "  [ 1  8  1 10 10  8  7]\n",
      "  [ 6  2  4 10  1  8  2]]\n",
      "\n",
      " [[ 5 10  9  4 10 10  4]\n",
      "  [ 7  0  2  3  6  9  2]\n",
      "  [ 5  2 10  6  4  8  2]\n",
      "  [ 5 10  9 10  8  6  9]\n",
      "  [ 7  0  3  9  3  1  1]]\n",
      "\n",
      " [[ 8  8  8 10 10  7  8]\n",
      "  [ 7  2  3  9  6  2  7]\n",
      "  [ 4 10 10 10  0  9  5]\n",
      "  [ 6  6  5  0  2  5 10]\n",
      "  [ 6  1  7  3  2  4  6]]] Grades shape: (3, 5, 7) int8\n"
     ]
    }
   ],
   "source": [
    "#                    CONCATENATE\n",
    "grades_g1 = np.random.randint(low=0,high=11,  size=(1,5,7), dtype= np.int8)\n",
    "print(grades_g1)\n",
    "grades_g2_g3 = np.random.randint(low=0,high=11,  size=(2,5,7), dtype= np.int8)\n",
    "grades = np.concatenate((grades_g1, grades_g2_g3), axis=0)\n",
    "print(\"          Grades:\")\n",
    "print(grades,\"Grades shape:\",grades.shape,grades.dtype)"
   ]
  },
  {
   "cell_type": "code",
   "execution_count": 17,
   "metadata": {},
   "outputs": [],
   "source": [
    "grades = np.array([[[ 6,  8,  6,  4,  4,  7,  9,],\n",
    "                    [ 2,  4,  3,  2,  3,  0,  1,],\n",
    "                    [ 3,  8,  7,  9,  4, 10,  5,],\n",
    "                    [ 2,  1,  2,  7,  9, 10,  7,],\n",
    "                    [10,  9, 10, 10,  9,  6,  8,],],\n",
    "\n",
    "                   [[ 3,  9,  6,  5,  0,  2, 10,],\n",
    "                    [ 2,  5,  5,  9, 10,  6,  4,],\n",
    "                    [ 9,  6,  9,  3,  3,  8,  1,],\n",
    "                    [ 9,  9,  1,  6,  9,  8,  8,],\n",
    "                    [ 1,  0,  7,  0,  7,  3,  8,],],\n",
    " \n",
    "                   [[ 6,  4,  4,  9, 10,  3,  8,],\n",
    "                    [ 0,  1,  8,  8,  0,  7,  5,],\n",
    "                    [ 5,  6,  5,  4,  6,  3,  4,],\n",
    "                    [ 8,  2,  5,  2,  7,  0,  4,],\n",
    "                    [ 6,  0,  1,  4,  7,  5,  6,],]], dtype=np.int8)\n"
   ]
  },
  {
   "cell_type": "code",
   "execution_count": 18,
   "metadata": {},
   "outputs": [
    {
     "name": "stdout",
     "output_type": "stream",
     "text": [
      "\n",
      "  Average per lessons : [4.8        4.8        5.26666667 5.46666667 5.86666667 5.2\n",
      " 5.86666667]\n"
     ]
    }
   ],
   "source": [
    "#     men(AVG) per lessons \n",
    "print(\"\\n\",\" Average per lessons :\",np.mean(grades, axis = (0,1)))"
   ]
  },
  {
   "cell_type": "code",
   "execution_count": 19,
   "metadata": {},
   "outputs": [
    {
     "name": "stdout",
     "output_type": "stream",
     "text": [
      "Max grades for each students  [[[ 9]\n",
      "  [ 4]\n",
      "  [10]\n",
      "  [10]\n",
      "  [10]]\n",
      "\n",
      " [[10]\n",
      "  [10]\n",
      "  [ 9]\n",
      "  [ 9]\n",
      "  [ 8]]\n",
      "\n",
      " [[10]\n",
      "  [ 8]\n",
      "  [ 6]\n",
      "  [ 8]\n",
      "  [ 7]]]\n"
     ]
    }
   ],
   "source": [
    "#  max grades for each students\n",
    "print(\"Max grades for each students \", np.max(grades,axis =(2),keepdims=True))\n"
   ]
  },
  {
   "cell_type": "code",
   "execution_count": 20,
   "metadata": {},
   "outputs": [
    {
     "name": "stdout",
     "output_type": "stream",
     "text": [
      "Min per group [[[0]]\n",
      "\n",
      " [[0]]\n",
      "\n",
      " [[0]]]\n"
     ]
    }
   ],
   "source": [
    "#        min grade for each group\n",
    "print(\"Min per group\", np.min(grades,axis =(1,2),keepdims=True))\n"
   ]
  }
 ],
 "metadata": {
  "kernelspec": {
   "display_name": "Python 3.10.4 64-bit",
   "language": "python",
   "name": "python3"
  },
  "language_info": {
   "codemirror_mode": {
    "name": "ipython",
    "version": 3
   },
   "file_extension": ".py",
   "mimetype": "text/x-python",
   "name": "python",
   "nbconvert_exporter": "python",
   "pygments_lexer": "ipython3",
   "version": "3.10.4"
  },
  "orig_nbformat": 4,
  "vscode": {
   "interpreter": {
    "hash": "aee8b7b246df8f9039afb4144a1f6fd8d2ca17a180786b69acc140d282b71a49"
   }
  }
 },
 "nbformat": 4,
 "nbformat_minor": 2
}
