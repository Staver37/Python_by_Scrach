{
 "cells": [
  {
   "cell_type": "markdown",
   "metadata": {},
   "source": [
    "site:  https://numpy.org/devdocs/reference/generated/numpy.concatenate.html#numpy.concatenate\n",
    "## numpy\n",
    "* best numerical (scientific) library for python\n",
    "\n",
    "### pros\n",
    "\n",
    "* stores values internally optimized\n",
    "* has vast/strict typing scheme\n",
    "* executes optimized ops & functions\n",
    "* many cool functions like \"dot product\"\n",
    "* ops & funcs work withvarious configurations\n",
    "\n"
   ]
  },
  {
   "cell_type": "markdown",
   "metadata": {},
   "source": [
    "### np ndaray - the CORE\"package\" used  to store in numpy\n",
    "<img src=\"img1.png\" style=\"width:500px;height 500px\"/>"
   ]
  },
  {
   "cell_type": "markdown",
   "metadata": {},
   "source": [
    "### Let's do some basics operations on the np arrays"
   ]
  },
  {
   "cell_type": "code",
   "execution_count": 7,
   "metadata": {},
   "outputs": [],
   "source": [
    "import numpy as np\n"
   ]
  },
  {
   "cell_type": "code",
   "execution_count": 8,
   "metadata": {},
   "outputs": [
    {
     "name": "stdout",
     "output_type": "stream",
     "text": [
      "[1, 2, 3]\n",
      "[1 2 3]\n",
      "[0. 0. 0.]\n"
     ]
    }
   ],
   "source": [
    "# python standard list\n",
    "a_lp = [1,2,3]\n",
    "\n",
    "# numpy ndarray\n",
    "a_anp = np.array([1,2,3])\n",
    "a_zero_np = np.zeros(3)\n",
    "\n",
    "print(a_lp)\n",
    "print(a_anp)\n",
    "print(a_zero_np)\n",
    "\n",
    "\n",
    "\n"
   ]
  }
 ],
 "metadata": {
  "kernelspec": {
   "display_name": "Python 3.10.4 64-bit",
   "language": "python",
   "name": "python3"
  },
  "language_info": {
   "codemirror_mode": {
    "name": "ipython",
    "version": 3
   },
   "file_extension": ".py",
   "mimetype": "text/x-python",
   "name": "python",
   "nbconvert_exporter": "python",
   "pygments_lexer": "ipython3",
   "version": "3.10.4"
  },
  "orig_nbformat": 4,
  "vscode": {
   "interpreter": {
    "hash": "aee8b7b246df8f9039afb4144a1f6fd8d2ca17a180786b69acc140d282b71a49"
   }
  }
 },
 "nbformat": 4,
 "nbformat_minor": 2
}
