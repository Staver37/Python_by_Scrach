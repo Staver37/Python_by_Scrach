{
 "cells": [
  {
   "cell_type": "markdown",
   "metadata": {},
   "source": [
    "# Classes and Object | Python\n",
    "## A mini social network\n",
    "\n",
    "* User\n",
    "* Post\n",
    "* Message"
   ]
  },
  {
   "cell_type": "markdown",
   "metadata": {},
   "source": []
  },
  {
   "cell_type": "code",
   "execution_count": 363,
   "metadata": {},
   "outputs": [],
   "source": [
    "## Store a User data \n",
    "#    * nickname\n",
    "#    * password\n",
    "#    * online\n",
    "\n",
    "#    + list\n",
    "#    + methods /functions\n",
    "#    + relationship\n",
    "\n",
    "\n",
    "# HW 5:\n",
    "#   * Create the Message class: body, fromUser, toUser, status\n",
    "#   * add the send (body, toUser) method in User class\n",
    "#   * add Proprety sent_mesages[] and when sending a message save it here\n",
    "\n",
    "# OPTIONAL* add the property inbox_mesages[] ang when sending a message, save it here\n",
    "# OPTIONAL* add the method read(index) in User class and change the status accrogingly"
   ]
  },
  {
   "cell_type": "code",
   "execution_count": 364,
   "metadata": {},
   "outputs": [],
   "source": [
    "\n",
    "user_1 = {\n",
    "     \"nickname\" : \"firstUser\",\n",
    "     \" password\": \"123456\"  ,\n",
    "    \" online\"  :  True    ,\n",
    " }\n",
    "\n",
    "user_2 = {\n",
    "     \"nickname\" : \"firstUser\",\n",
    "     \" password\": \"123456\"  ,\n",
    "    \" online\"  :  False    ,\n",
    " }"
   ]
  },
  {
   "cell_type": "code",
   "execution_count": 365,
   "metadata": {},
   "outputs": [
    {
     "name": "stdout",
     "output_type": "stream",
     "text": [
      "False\n"
     ]
    }
   ],
   "source": [
    "# let's try some proprieties\n",
    "\n",
    "print(user_1 == user_2)\n"
   ]
  },
  {
   "cell_type": "markdown",
   "metadata": {},
   "source": [
    "                                                   --------dict--------\n",
    "       -----------user_1--------------             |                   |\n",
    "       |                              |            | * operators:      |\n",
    "       | user_1 = {                   |            |      [],>,<,==... |\n",
    "       |     \"nickname\" : \"firstUs3r\",x<---------> | * methods:        |\n",
    "       |     \" password\": \"123456\"  , |            |  get(),clear(),.. | ex:--> def get(...): \n",
    "       |     \" online\"  :  True    ,  |            |                   |             ...\n",
    "       |  }                           |             ---------------------            ...\n",
    "        -------------------------------                                              return....\n",
    "                                                  "
   ]
  },
  {
   "cell_type": "code",
   "execution_count": 366,
   "metadata": {},
   "outputs": [],
   "source": [
    "## !!! COMMON vs SPECIFIC logic (python specific)\n",
    "## !!! RELATIONSHIPS between OBJECTS\n",
    "class User:\n",
    "  ## Common logic\n",
    "    def __init__(self, nickname, password):\n",
    "     self.nickname      = nickname \n",
    "     self.password      =  password\n",
    "     self.online        = False\n",
    "     self.friends       =[] # list of User objects\n",
    "     self.posts         =[] # list of Post objects\n",
    "     self.sent_mesages  =[]\n",
    "     self.inbox_mesages =[] \n",
    "    def __str__(self):\n",
    "        return f\"User<{self.nickname}>\"\n",
    "    \n",
    "    def __repr__(self):\n",
    "        return self.__str__()\n",
    "     \n",
    "    # User specific logic (app specific)    \n",
    "    def auth(self, nickname, password):\n",
    "        if nickname == self.nickname and password == self.password:\n",
    "            self.online = True\n",
    "            # lose coupling\n",
    "            return True\n",
    "        else:\n",
    "            return False\n",
    "      \n",
    "    \n",
    "    def logout(self):\n",
    "        self.online = False \n",
    "    \n",
    "    def addFriend(self, friend):\n",
    "        ## HW3:\n",
    "        #   draw a sketch /diagram\n",
    "        if type(friend) != User: \n",
    "            return\n",
    "        friend_exist = False\n",
    "        for existing_friend in self.friends:\n",
    "            if existing_friend.nickname == friend.nickname:\n",
    "                friend_exist = True\n",
    "                break\n",
    "        if not friend_exist:    \n",
    "            self.friends.append(friend)\n",
    "    \n",
    "    def post(self, title, body):\n",
    "        #HW4: check if both title and body are of type string\n",
    "        print(title)\n",
    "        #print(type(title))\n",
    "        #print(type(body)) \n",
    "        new_post = Post(title,body)\n",
    "        new_post.author = self \n",
    "        self.posts.append(new_post)\n",
    "        return new_post\n",
    "    \n",
    "    def send(self, body, toUser ):\n",
    "        new_message = Message(body, toUser)\n",
    "        self.toUser   = User\n",
    "        self.send.append(new_message)\n",
    "        new_message.author = self\n",
    "        return str(new_message)\n",
    "        \n",
    "        "
   ]
  },
  {
   "cell_type": "code",
   "execution_count": 367,
   "metadata": {},
   "outputs": [],
   "source": [
    "class  Post:\n",
    "    # Common logic\n",
    "    def __init__(self, title, body):\n",
    "        self.title = title\n",
    "        self.body = body\n",
    "        self.fromUser   = User \n",
    "    def __str__(self):\n",
    "        return f\"Post <{self.title}>\"\n",
    "    \n",
    "    def __repr__(self):\n",
    "        return self.__str__()"
   ]
  },
  {
   "cell_type": "code",
   "execution_count": 368,
   "metadata": {},
   "outputs": [],
   "source": [
    "class Message:\n",
    "    def __init__(self, body, fromUser, status = False):\n",
    "        self.body     = body\n",
    "        self.User = fromUser\n",
    "        self.status   = status()\n",
    "        return self.body\n",
    "    def __str__(self):\n",
    "        return f\"Message <{self.body}>\"\n",
    "    def __str__(self):\n",
    "        return self.__str__"
   ]
  },
  {
   "cell_type": "code",
   "execution_count": 377,
   "metadata": {},
   "outputs": [
    {
     "name": "stdout",
     "output_type": "stream",
     "text": [
      "Fake news 1\n",
      "The user has posted  Post <Fake news 1>\n",
      "Fake news 2\n",
      "Anti Fake 1\n",
      "[Post <Fake news 1>, Post <Fake news 2>]\n",
      "[Post <Anti Fake 1>]\n",
      "The author of the post Post <Fake news 1> is User<firstUser>\n",
      "Message: \n",
      "\n"
     ]
    },
    {
     "ename": "TypeError",
     "evalue": "User.send() missing 2 required positional arguments: 'body' and 'toUser'",
     "output_type": "error",
     "traceback": [
      "\u001b[0;31m---------------------------------------------------------------------------\u001b[0m",
      "\u001b[0;31mTypeError\u001b[0m                                 Traceback (most recent call last)",
      "\u001b[1;32m/Users/adrian/Desktop/PY-PROJECTS/Level 2/OOP/socialHW.ipynb Cell 10'\u001b[0m in \u001b[0;36m<cell line: 16>\u001b[0;34m()\u001b[0m\n\u001b[1;32m     <a href='vscode-notebook-cell:/Users/adrian/Desktop/PY-PROJECTS/Level%202/OOP/socialHW.ipynb#ch0000009?line=11'>12</a>\u001b[0m \u001b[39mprint\u001b[39m(\u001b[39m\"\u001b[39m\u001b[39mThe author of the post\u001b[39m\u001b[39m\"\u001b[39m, post_1 ,\u001b[39m\"\u001b[39m\u001b[39mis\u001b[39m\u001b[39m\"\u001b[39m, post_1\u001b[39m.\u001b[39mauthor)\n\u001b[1;32m     <a href='vscode-notebook-cell:/Users/adrian/Desktop/PY-PROJECTS/Level%202/OOP/socialHW.ipynb#ch0000009?line=13'>14</a>\u001b[0m \u001b[39mprint\u001b[39m(\u001b[39m\"\u001b[39m\u001b[39mMessage:\u001b[39m\u001b[39m\"\u001b[39m,\u001b[39m'\u001b[39m\u001b[39m\\n\u001b[39;00m\u001b[39m'\u001b[39m)\n\u001b[0;32m---> <a href='vscode-notebook-cell:/Users/adrian/Desktop/PY-PROJECTS/Level%202/OOP/socialHW.ipynb#ch0000009?line=15'>16</a>\u001b[0m send_1 \u001b[39m=\u001b[39m user_1\u001b[39m.\u001b[39;49msend()\n\u001b[1;32m     <a href='vscode-notebook-cell:/Users/adrian/Desktop/PY-PROJECTS/Level%202/OOP/socialHW.ipynb#ch0000009?line=16'>17</a>\u001b[0m user_1\u001b[39m.\u001b[39msend(\u001b[39m\"\u001b[39m\u001b[39mhello\u001b[39m\u001b[39m\"\u001b[39m, \u001b[39m\"\u001b[39m\u001b[39mto\u001b[39m\u001b[39m\"\u001b[39m, user_2 )\n\u001b[1;32m     <a href='vscode-notebook-cell:/Users/adrian/Desktop/PY-PROJECTS/Level%202/OOP/socialHW.ipynb#ch0000009?line=17'>18</a>\u001b[0m \u001b[39mprint\u001b[39m(user_1\u001b[39m.\u001b[39msend_1)\n",
      "\u001b[0;31mTypeError\u001b[0m: User.send() missing 2 required positional arguments: 'body' and 'toUser'"
     ]
    }
   ],
   "source": [
    "# Using the class objects: \n",
    "\n",
    "user_1 = User(\"firstUser\",  \"123456\")\n",
    "user_2 = User(\"secoundUser\",  \"123456\")\n",
    "\n",
    "post_1 = user_1.post(\"Fake news 1\", \"Some dummy fake body\")\n",
    "print(\"The user has posted \", post_1)\n",
    "user_1.post(\"Fake news 2\", \"Some dummy fake body\")\n",
    "user_2.post(\"Anti Fake 1\" , \"Some anti fake blah blah\")\n",
    "print(user_1.posts)\n",
    "print(user_2.posts)\n",
    "print(\"The author of the post\", post_1 ,\"is\", post_1.author)\n",
    "\n",
    "print(\"Message:\",'\\n')\n",
    "\n",
    "send_1 = user_1.send()\n",
    "user_1.send(\"hello\", \"to\", user_2 )\n",
    "print(user_1.send_1)\n",
    "\n",
    "\n",
    "\n",
    "\n",
    "\n"
   ]
  },
  {
   "cell_type": "markdown",
   "metadata": {},
   "source": [
    "      ---object#2---- + <class User>\n",
    "      |             |\n",
    "      |             |------\n",
    "      |             |      |\n",
    "      ---------------      |\n",
    "                           |\n",
    "                           v\n",
    "         call   __init__(self,nickname,...)\n",
    "                     v\n",
    "                  sets . nickname\n",
    "                       ........\n",
    "                     v\n",
    "                     |\n",
    "                     v\n",
    "                  return the object\n",
    "                    "
   ]
  },
  {
   "cell_type": "markdown",
   "metadata": {},
   "source": [
    "      ---object#1---- + <class User>\n",
    "      |             |<-------\n",
    "      | frienr      |------ |\n",
    "      |             |     | |\n",
    "      ---------------     | |\n",
    "                          | |\n",
    "                          v author\n",
    "                ----object#2---+< class post >\n",
    "                |              |\n",
    "                |    post      |\n",
    "                |              |           \n",
    "                ----------------           "
   ]
  },
  {
   "cell_type": "markdown",
   "metadata": {},
   "source": [
    "      ---object#1---- + <class User>\n",
    "      |             |<-------\n",
    "      | frienr      |------ |\n",
    "      |             |     | |\n",
    "      ---------------     | |\n",
    "                          | |\n",
    "                          v author\n",
    "                ----object#2---+< class post >\n",
    "                |              |\n",
    "                |    post      |\n",
    "                |              |           \n",
    "                ----------------           "
   ]
  }
 ],
 "metadata": {
  "interpreter": {
   "hash": "aee8b7b246df8f9039afb4144a1f6fd8d2ca17a180786b69acc140d282b71a49"
  },
  "kernelspec": {
   "display_name": "Python 3.10.4 64-bit",
   "language": "python",
   "name": "python3"
  },
  "language_info": {
   "codemirror_mode": {
    "name": "ipython",
    "version": 3
   },
   "file_extension": ".py",
   "mimetype": "text/x-python",
   "name": "python",
   "nbconvert_exporter": "python",
   "pygments_lexer": "ipython3",
   "version": "3.10.4"
  },
  "orig_nbformat": 4
 },
 "nbformat": 4,
 "nbformat_minor": 2
}
