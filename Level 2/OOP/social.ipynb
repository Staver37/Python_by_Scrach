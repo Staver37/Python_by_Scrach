{
 "cells": [
  {
   "cell_type": "markdown",
   "metadata": {},
   "source": [
    "# Classes and Object | Python\n",
    "## A mini social network\n",
    "\n",
    "* User\n",
    "* Post\n",
    "* Message"
   ]
  },
  {
   "cell_type": "markdown",
   "metadata": {},
   "source": []
  },
  {
   "cell_type": "code",
   "execution_count": 9,
   "metadata": {},
   "outputs": [],
   "source": [
    "## Store a User data \n",
    "#    * nickname\n",
    "#    * password\n",
    "#    * online\n",
    "\n",
    "#    + list\n",
    "#    + methods /functions\n",
    "#    + relationship\n",
    "\n",
    "\n",
    "# HW 5:\n",
    "#   * Create the Message class: body, fromUser, toUser, status\n",
    "#   * add the send (body, toUser) method in User class\n",
    "#   * add Proprety sent_mesages[] and when sending a message save it here\n",
    "\n",
    "# OPTIONAL* add the property inbox_mesages[] ang when sending a message, save it here\n",
    "# OPTIONAL* add the method read(index) in User class and change the status accrogingly"
   ]
  },
  {
   "cell_type": "code",
   "execution_count": 10,
   "metadata": {},
   "outputs": [],
   "source": [
    "# User DATA | Solution\n",
    "# htis is an object of the \"dict\" class\n",
    "# user_1 = {\n",
    "#     \"nickname\" : \"firstUs3r\",\n",
    "#     \" password\": \"123456\"  ,\n",
    "#     \" online\"  :  True    ,\n",
    "# }\n",
    "# user_temporary = user_1\n",
    "# user = user_1\n",
    "\n",
    "# user_1 [\"password\"] = 876676558\n",
    "\n",
    "# users = []\n",
    "# users.append(user_1)\n",
    "\n",
    "# def  changeUserNickName(user,new_nickname):\n",
    "#    user[\"nickname\"] = new_nickname\n",
    "\n"
   ]
  },
  {
   "cell_type": "markdown",
   "metadata": {},
   "source": [
    "        user_1 ------------> dict{...}\n",
    "                              ^ ^ ^ \n",
    "                              | | | \n",
    "          user_temporary ----| | | <\n",
    "                                | | |\n",
    "                                | | |\n",
    "          users  ------>list[    | |\n",
    "              0  --------------- | |\n",
    "              2  ----------------- |\n",
    "          ]                        |\n",
    "        changeUserNickName       (user ....)    "
   ]
  },
  {
   "cell_type": "code",
   "execution_count": 11,
   "metadata": {},
   "outputs": [],
   "source": [
    "# changeUserNickName(user,\"alteredName\")\n",
    "\n",
    "#    user_1 ------------> dict{...}\n",
    "#                       ^ ^ ^ \n",
    "#                       | | | \n",
    "#    user_temporary ----| | | <\n",
    "#                         | | |\n",
    "#                         | | |\n",
    "#    users  ------>list[    | |\n",
    "#        0  --------------- | |\n",
    "#        2  ----------------- |\n",
    "#    ]                        |\n",
    "#  changeUserNickName       (user ....) \n",
    "\n",
    "# print(user_1) # str()\n",
    "\n",
    "# print(users[0]) \n",
    "# print(type(users[0]) ) # str()\n",
    "# print(user)"
   ]
  },
  {
   "cell_type": "code",
   "execution_count": 12,
   "metadata": {},
   "outputs": [],
   "source": [
    "# EXPERIMENT\n",
    "# user_1 = {\n",
    "#     \"nickname\" : \"firstUs3r\",\n",
    "#     \" password\": \"123456\"  ,\n",
    "#    \" online\"  :  True    ,\n",
    "# }\n",
    "\n",
    "# users = []\n",
    "# users.append(user_1)\n",
    "# users.append(user_1)\n",
    "# users.append(user_1)\n"
   ]
  },
  {
   "cell_type": "markdown",
   "metadata": {},
   "source": [
    "    user_1 ---------> dict{...}\n",
    "                            ^\n",
    "                            |\n",
    "    users ------------>list[|\n",
    "        0  -----------------\n",
    "        1  -----------------\n",
    "        2  -----------------\n",
    "    ]"
   ]
  },
  {
   "cell_type": "code",
   "execution_count": 13,
   "metadata": {},
   "outputs": [],
   "source": [
    "\n",
    "user_1 = {\n",
    "     \"nickname\" : \"firstUser\",\n",
    "     \" password\": \"123456\"  ,\n",
    "    \" online\"  :  True    ,\n",
    " }\n",
    "\n",
    "user_2 = {\n",
    "     \"nickname\" : \"firstUser\",\n",
    "     \" password\": \"123456\"  ,\n",
    "    \" online\"  :  True    ,\n",
    " }"
   ]
  },
  {
   "cell_type": "code",
   "execution_count": 14,
   "metadata": {},
   "outputs": [
    {
     "name": "stdout",
     "output_type": "stream",
     "text": [
      "True\n"
     ]
    }
   ],
   "source": [
    "# let's try some proprieties\n",
    "\n",
    "print(user_1 == user_2)\n"
   ]
  },
  {
   "cell_type": "markdown",
   "metadata": {},
   "source": [
    "                  action\n",
    "                     ^\n",
    "                     |\n",
    "                     v                        --------class--------\n",
    "       -----------object---------             |                    |\n",
    "       |                        |             | *structure:        |\n",
    "       |                        x<----------->|     proprietes     |\n",
    "       |          value         |             | * behaviour:       |\n",
    "       |                        |             |     metods         |\n",
    "       |                        |             |    & operattors    |\n",
    "       --------------------------             |                    |\n",
    "                                              ----------------------\n",
    "* Marea majoriatte a actiunilor legate de un obiect ( funct/ operatori ) se concentreaza cel mai mult de pe valoarea obiectului info despre obiect despre functile lui si ce trebuie sa faca, se afla in clasa obiectului."
   ]
  },
  {
   "cell_type": "markdown",
   "metadata": {},
   "source": [
    "                                                   --------dict--------\n",
    "       -----------user_1--------------             |                   |\n",
    "       |                              |            | * operators:      |\n",
    "       | user_1 = {                   |            |      [],>,<,==... |\n",
    "       |     \"nickname\" : \"firstUs3r\",x<---------> | * methods:        |\n",
    "       |     \" password\": \"123456\"  , |            |  get(),clear(),.. | ex:--> def get(...): \n",
    "       |     \" online\"  :  True    ,  |            |                   |             ...\n",
    "       |  }                           |             ---------------------            ...\n",
    "        -------------------------------                                              return....\n",
    "                                                  "
   ]
  },
  {
   "cell_type": "code",
   "execution_count": 15,
   "metadata": {},
   "outputs": [],
   "source": [
    "## !!! COMMON vs SPECIFIC logic (python specific)\n",
    "## !!! RELATIONSHIPS between OBJECTS\n",
    "class User:\n",
    "  ## Common logic\n",
    "    def __init__(self, nickname, password):\n",
    "     self.nickname = nickname \n",
    "     self.password =  password\n",
    "     self.online   = False\n",
    "     self.friends  = [] # list of User objects\n",
    "     self.posts    = [] # list of Post objects\n",
    "    def __str__(self):\n",
    "        return f\"User<{self.nickname}>\"\n",
    "    \n",
    "    def __repr__(self):\n",
    "        return self.__str__()\n",
    "     \n",
    "    # User specific logic (app specific)    \n",
    "    def auth(self, nickname, password):\n",
    "        if nickname == self.nickname and password == self.password:\n",
    "            self.online = True\n",
    "            # lose coupling\n",
    "            return True\n",
    "        else:\n",
    "            return False\n",
    "      \n",
    "    \n",
    "    def logout(self):\n",
    "        self.online = False \n",
    "    \n",
    "    def addFriend(self, friend):\n",
    "        ## HW3:\n",
    "        #   draw a sketch /diagram\n",
    "        if type(friend) != User: \n",
    "            return\n",
    "        friend_exist = False\n",
    "        for existing_friend in self.friends:\n",
    "            if existing_friend.nickname == friend.nickname:\n",
    "                friend_exist = True\n",
    "                break\n",
    "        if not friend_exist:    \n",
    "            self.friends.append(friend)\n",
    "    \n",
    "    def post(self, title, body):\n",
    "        #HW4: check if both title and body are of type string\n",
    "        new_post = Post(title,body)\n",
    "        new_post.author = self \n",
    "        self.posts.append(new_post)\n",
    "        return new_post\n",
    "        \n",
    "        "
   ]
  },
  {
   "cell_type": "code",
   "execution_count": 16,
   "metadata": {},
   "outputs": [],
   "source": [
    "class  Post:\n",
    "    # Common logic\n",
    "    def __init__(self, title, body):\n",
    "        self.title = title\n",
    "        self.body = body\n",
    "        \n",
    "    def __str__(self):\n",
    "        return f\"Post <{self.title}>\"\n",
    "    \n",
    "    def __repr__(self):\n",
    "        return self.__str__()"
   ]
  },
  {
   "cell_type": "code",
   "execution_count": 17,
   "metadata": {},
   "outputs": [
    {
     "name": "stdout",
     "output_type": "stream",
     "text": [
      "The user has posted  Post <Fake news 1>\n",
      "[Post <Fake news 1>, Post <Fake news 2>]\n",
      "[Post <Anti Fake 1>]\n"
     ]
    }
   ],
   "source": [
    "# Using the class objects \n",
    "\n",
    "user_1 = User(\"firstUser\",  \"123456\")\n",
    "user_2 = User(\"secoundUser\",  \"123456\")\n",
    "\n",
    "post_1 = user_1.post(\"Fake news 1\", \"Some dummy fake body\")\n",
    "print(\"The user has posted \", post_1)\n",
    "\n",
    "user_1.post(\"Fake news 2\", \"Some dummy fake body\")\n",
    "\n",
    "user_2.post(\"Anti Fake 1\" , \"Some anti fake blah blah\")\n",
    "\n",
    "print(user_1.posts)\n",
    "print(user_2.posts)\n"
   ]
  },
  {
   "cell_type": "markdown",
   "metadata": {},
   "source": [
    "      ---object#2---- + <class User>\n",
    "      |             |\n",
    "      |             |------\n",
    "      |             |     |\n",
    "      ---------------     |\n",
    "                           |\n",
    "                           v\n",
    "         call   __init__(self,nickname,...)\n",
    "                     v\n",
    "                  sets . nickname\n",
    "                       ........\n",
    "                     v\n",
    "                     |\n",
    "                     v\n",
    "                  return the object\n",
    "                    "
   ]
  },
  {
   "cell_type": "markdown",
   "metadata": {},
   "source": [
    "      ---object#1---- + <class User>\n",
    "      |             |\n",
    "      | frienr      |------\n",
    "      |             |     |\n",
    "      ---------------     |\n",
    "                          |\n",
    "                          v\n",
    "                ----object#2---+< class User >\n",
    "                |              |\n",
    "                |    friend    |-----------\n",
    "                |              |           |\n",
    "                ----------------           v"
   ]
  }
 ],
 "metadata": {
  "interpreter": {
   "hash": "aee8b7b246df8f9039afb4144a1f6fd8d2ca17a180786b69acc140d282b71a49"
  },
  "kernelspec": {
   "display_name": "Python 3.10.4 64-bit",
   "language": "python",
   "name": "python3"
  },
  "language_info": {
   "codemirror_mode": {
    "name": "ipython",
    "version": 3
   },
   "file_extension": ".py",
   "mimetype": "text/x-python",
   "name": "python",
   "nbconvert_exporter": "python",
   "pygments_lexer": "ipython3",
   "version": "3.10.4"
  },
  "orig_nbformat": 4
 },
 "nbformat": 4,
 "nbformat_minor": 2
}
