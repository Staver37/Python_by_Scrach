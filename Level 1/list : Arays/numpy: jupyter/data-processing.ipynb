{
 "cells": [
  {
   "cell_type": "markdown",
   "metadata": {},
   "source": []
  },
  {
   "cell_type": "markdown",
   "metadata": {},
   "source": [
    "### Working with data structures>numpy   \n",
    ">targeting\n",
    "* jupyter\n",
    "* pip\n",
    "* venv\n",
    "* performance\n",
    "* benchmarking\n",
    ">numpy pros\n",
    "* popula\n",
    "* fast\n",
    "* easy\n",
    "* open\n",
    "* rapid"
   ]
  },
  {
   "cell_type": "code",
   "execution_count": 22,
   "metadata": {},
   "outputs": [
    {
     "name": "stdout",
     "output_type": "stream",
     "text": [
      "[[0.25, 0.5], [0.75, 1.0]]\n",
      "duration in secounds 0.00013589859008789062\n"
     ]
    }
   ],
   "source": [
    "from time import time\n",
    "\n",
    "## Let's test a simple 2d lists\n",
    "data=[\n",
    "    [1,2], # [0.25,0.5],\n",
    "    [3,4], # [0.75,1.0]\n",
    "]\n",
    "t0 =time()\n",
    "data_f = []\n",
    "for ri in range(2):\n",
    "    for ci in range(2):\n",
    "        data_f.append(data[ri][ci])\n",
    "#  normalization ->   0..1\n",
    "# data= data /4\n",
    "max_v= max(data_f)\n",
    "for ri in range (2):\n",
    "    for ci in range (2):\n",
    "        data[ri][ci] /=  max_v\n",
    "t1 = time()\n",
    "print(data)\n",
    "print(f\"duration in secounds {t1-t0:}\")\n"
   ]
  },
  {
   "cell_type": "markdown",
   "metadata": {},
   "source": [
    "## Traditional solution has cons:\n",
    "* huge code\n",
    "* resource hungry\n",
    "* "
   ]
  },
  {
   "cell_type": "code",
   "execution_count": 19,
   "metadata": {},
   "outputs": [
    {
     "name": "stdout",
     "output_type": "stream",
     "text": [
      "[[0.25 0.5 ]\n",
      " [0.75 1.  ]]\n"
     ]
    }
   ],
   "source": [
    "import numpy as np\n",
    "## solution with numpy\n",
    "# wrap in numpy array\n",
    "data = np.array([\n",
    "    [1,2], # [0.25,0.5],\n",
    "    [3,4], # [0.75,1.0]\n",
    "])\n",
    "data = data /data.max()\n",
    "#print(data.shape)\n",
    "print(data)"
   ]
  }
 ],
 "metadata": {
  "interpreter": {
   "hash": "aee8b7b246df8f9039afb4144a1f6fd8d2ca17a180786b69acc140d282b71a49"
  },
  "kernelspec": {
   "display_name": "Python 3.10.4 64-bit",
   "language": "python",
   "name": "python3"
  },
  "language_info": {
   "codemirror_mode": {
    "name": "ipython",
    "version": 3
   },
   "file_extension": ".py",
   "mimetype": "text/x-python",
   "name": "python",
   "nbconvert_exporter": "python",
   "pygments_lexer": "ipython3",
   "version": "3.10.4"
  },
  "orig_nbformat": 4
 },
 "nbformat": 4,
 "nbformat_minor": 2
}
