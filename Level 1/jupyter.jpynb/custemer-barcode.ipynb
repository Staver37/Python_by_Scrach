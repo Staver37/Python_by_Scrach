{
 "cells": [
  {
   "cell_type": "markdown",
   "metadata": {},
   "source": [
    "co-dec'ling data\n",
    "* pasing complex string data (aka: decoding)\n",
    "* econding complex data string.\n",
    "\n"
   ]
  },
  {
   "cell_type": "code",
   "execution_count": 1,
   "metadata": {},
   "outputs": [],
   "source": [
    "## a 9 digit number\n",
    "number = 123456789\n",
    "\n",
    "def createBarCode(number):\n",
    "    \n",
    "    number_string  = f\"{number}\" # ->\"123456789\"\n",
    "    number_encoded = \"\"\n",
    "    bar_code       = \"\"\n",
    "    for i in range(len(number_string)):\n",
    "        digit =int(number_string[i])\n",
    "        \n",
    "        digit_encoded = f\"{digit:04b}\"\n",
    "        number_encoded += digit_encoded \n",
    "\n",
    "    \n",
    "    for i in range (len(number_encoded)):\n",
    "        digit = number_encoded[i]\n",
    "        if digit == \"1\":\n",
    "            bar_code+= \"▊\"\n",
    "\n",
    "        elif digit ==\"0\":\n",
    "            bar_code += \" \"\n",
    "            \n",
    "    bar_code = (bar_code + \"\\n\") * 10\n",
    "    return bar_code\n",
    "\n",
    "\n"
   ]
  },
  {
   "cell_type": "code",
   "execution_count": 2,
   "metadata": {},
   "outputs": [],
   "source": [
    "def scanBarCode(code):\n",
    "    number = 0\n",
    "    number_encoded = \"\"\n",
    "    number_string = \"\"\n",
    "    code_simplified = code[:36]\n",
    "    \n",
    "    for i in range(len(code_simplified)):\n",
    "        symbol = code_simplified[i]\n",
    "        if symbol == \"▊\":\n",
    "            number_encoded += \"1\"\n",
    "\n",
    "        elif symbol == \" \":\n",
    "            number_encoded += \"0\"\n",
    "     \n",
    "    for i in range(9):\n",
    "        digit_bits = number_encoded[i*4:(i+1)*4]\n",
    "        digit = int(digit_bits, 2)\n",
    "        number_string += f\"{digit:d}\" \n",
    "        #print(digit_bits)\n",
    "    number = int(number_string)    \n",
    "    print(number_encoded) \n",
    "    return number"
   ]
  },
  {
   "cell_type": "code",
   "execution_count": 3,
   "metadata": {},
   "outputs": [
    {
     "name": "stdout",
     "output_type": "stream",
     "text": [
      "▊  ▊ ▊▊▊ ▊▊  ▊ ▊  ▊▊  ▊  ▊▊▊ ▊▊    ▊\n",
      "▊  ▊ ▊▊▊ ▊▊  ▊ ▊  ▊▊  ▊  ▊▊▊ ▊▊    ▊\n",
      "▊  ▊ ▊▊▊ ▊▊  ▊ ▊  ▊▊  ▊  ▊▊▊ ▊▊    ▊\n",
      "▊  ▊ ▊▊▊ ▊▊  ▊ ▊  ▊▊  ▊  ▊▊▊ ▊▊    ▊\n",
      "▊  ▊ ▊▊▊ ▊▊  ▊ ▊  ▊▊  ▊  ▊▊▊ ▊▊    ▊\n",
      "▊  ▊ ▊▊▊ ▊▊  ▊ ▊  ▊▊  ▊  ▊▊▊ ▊▊    ▊\n",
      "▊  ▊ ▊▊▊ ▊▊  ▊ ▊  ▊▊  ▊  ▊▊▊ ▊▊    ▊\n",
      "▊  ▊ ▊▊▊ ▊▊  ▊ ▊  ▊▊  ▊  ▊▊▊ ▊▊    ▊\n",
      "▊  ▊ ▊▊▊ ▊▊  ▊ ▊  ▊▊  ▊  ▊▊▊ ▊▊    ▊\n",
      "▊  ▊ ▊▊▊ ▊▊  ▊ ▊  ▊▊  ▊  ▊▊▊ ▊▊    ▊\n",
      "\n",
      "\n",
      "100101110110010100110010011101100001\n",
      "976532761\n"
     ]
    }
   ],
   "source": [
    "## Using our function\n",
    "\n",
    "\n",
    "b_code = createBarCode(976532761)\n",
    "print(b_code)\n",
    "print()\n",
    "number = scanBarCode(b_code)\n",
    "print(number)"
   ]
  }
 ],
 "metadata": {
  "interpreter": {
   "hash": "aee8b7b246df8f9039afb4144a1f6fd8d2ca17a180786b69acc140d282b71a49"
  },
  "kernelspec": {
   "display_name": "Python 3.10.4 64-bit",
   "language": "python",
   "name": "python3"
  },
  "language_info": {
   "codemirror_mode": {
    "name": "ipython",
    "version": 3
   },
   "file_extension": ".py",
   "mimetype": "text/x-python",
   "name": "python",
   "nbconvert_exporter": "python",
   "pygments_lexer": "ipython3",
   "version": "3.10.4"
  },
  "orig_nbformat": 4
 },
 "nbformat": 4,
 "nbformat_minor": 2
}
